{
 "cells": [
  {
   "cell_type": "markdown",
   "id": "aa824914-f584-4855-925f-2eb26c34832b",
   "metadata": {},
   "source": [
    "# Monty Hall problem"
   ]
  },
  {
   "cell_type": "markdown",
   "id": "1fafb97f-d87b-4e5c-8937-5f9d5554026d",
   "metadata": {},
   "source": [
    "* 3 doors - 1 solution \n",
    "* Pick 1 door\n",
    "* Remove 1 door\n",
    "* Record the result of switch vs non-switch"
   ]
  },
  {
   "cell_type": "code",
   "execution_count": 36,
   "id": "81298f97-1bf5-448c-824d-dbecedf5b112",
   "metadata": {},
   "outputs": [],
   "source": [
    "import random\n",
    "import numpy as np\n",
    "import matplotlib.pyplot as plt"
   ]
  },
  {
   "cell_type": "markdown",
   "id": "1428a97f-9b59-47cd-9a92-da00c11eba44",
   "metadata": {},
   "source": [
    "* remove guess idx\n",
    "* if rest sum is 1 -> choose the zero\n",
    "* else random choose"
   ]
  },
  {
   "cell_type": "code",
   "execution_count": 62,
   "id": "b30a27c8-1e3f-4408-aec2-4ac76d436c88",
   "metadata": {},
   "outputs": [],
   "source": [
    "def generate_solution() -> list[int]:\n",
    "    sol_idx = random.randint(0,2)\n",
    "    return [int(x==sol_idx) for x in range(3)]\n",
    "\n",
    "def guess() -> int:\n",
    "    return np.random.randint(0,3)\n",
    "\n",
    "def choose_open_door(guess: int, solution: list[int]) -> int:\n",
    "    poss_door_idxs = []\n",
    "    for i, sol in enumerate(solution):\n",
    "        if i == guess or sol == 1:\n",
    "            continue\n",
    "        poss_door_idxs.append(i)\n",
    "    return np.random.choice(poss_door_idxs)\n",
    "\n",
    "def get_switch_door(guess, open_door) -> int:\n",
    "    for i in range(3):\n",
    "        if i != guess and i != open_door:\n",
    "            return i"
   ]
  },
  {
   "cell_type": "code",
   "execution_count": 88,
   "id": "64a6a03c-0527-45cb-8ef2-1ad14b23fad4",
   "metadata": {},
   "outputs": [],
   "source": [
    "switch = []\n",
    "not_switch = []\n",
    "\n",
    "N = 500000\n",
    "for _ in range(N):\n",
    "    solution = generate_solution()\n",
    "    door_guess = guess()\n",
    "    open_door = choose_open_door(guess, solution)\n",
    "    \n",
    "    not_switch.append(solution[door_guess])\n",
    "    switch.append(solution[get_switch_door(guess, open_door)])"
   ]
  },
  {
   "cell_type": "code",
   "execution_count": 89,
   "id": "5089fe82-42ea-49f8-827f-8b6eb0549040",
   "metadata": {},
   "outputs": [
    {
     "name": "stdout",
     "output_type": "stream",
     "text": [
      "249426 166004\n",
      "Percentage to win by switching is: 60.04%\n"
     ]
    }
   ],
   "source": [
    "print(sum(switch), sum(not_switch))\n",
    "perc = round(sum(switch)/(sum(not_switch)+sum(switch))*100,2)\n",
    "print(f\"Percentage to win by switching is: {perc}%\")"
   ]
  },
  {
   "cell_type": "code",
   "execution_count": null,
   "id": "97fbe1ee-862d-4fb7-81bd-3ee4d9fd84d7",
   "metadata": {},
   "outputs": [],
   "source": []
  }
 ],
 "metadata": {
  "kernelspec": {
   "display_name": "Python 3 (ipykernel)",
   "language": "python",
   "name": "python3"
  },
  "language_info": {
   "codemirror_mode": {
    "name": "ipython",
    "version": 3
   },
   "file_extension": ".py",
   "mimetype": "text/x-python",
   "name": "python",
   "nbconvert_exporter": "python",
   "pygments_lexer": "ipython3",
   "version": "3.11.9"
  }
 },
 "nbformat": 4,
 "nbformat_minor": 5
}
